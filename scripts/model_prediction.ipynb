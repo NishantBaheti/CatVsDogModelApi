{
 "cells": [
  {
   "cell_type": "code",
   "execution_count": 1,
   "metadata": {},
   "outputs": [],
   "source": [
    "import tensorflow as tf\n",
    "from PIL import Image\n",
    "import io\n",
    "import numpy as np\n",
    "\n",
    "model_path = '../modelapi/model/model-v0.0.2'\n",
    "dataset_path = \"../dataset/cat/cat.1.jpg\"\n",
    "\n",
    "model = tf.keras.models.load_model(model_path)\n"
   ]
  },
  {
   "cell_type": "code",
   "execution_count": 3,
   "metadata": {},
   "outputs": [
    {
     "data": {
      "text/plain": [
       "(None, 128, 128, 3)"
      ]
     },
     "execution_count": 3,
     "metadata": {},
     "output_type": "execute_result"
    }
   ],
   "source": [
    "model.input_shape"
   ]
  },
  {
   "cell_type": "code",
   "execution_count": 6,
   "metadata": {},
   "outputs": [
    {
     "name": "stdout",
     "output_type": "stream",
     "text": [
      "<class 'PIL.Image.Image'>\n",
      "[[1. 0.]]\n"
     ]
    }
   ],
   "source": [
    "resize_param = model.input_shape[1:3]\n",
    "with open(dataset_path, \"rb\") as file:\n",
    "    data = file.read()\n",
    "    img = Image.open(io.BytesIO(data))\n",
    "\n",
    "img = img.resize(size=resize_param)\n",
    "img.show()\n",
    "print(type(img))\n",
    "\n",
    "\n",
    "img = np.array(img)\n",
    "data = np.expand_dims(img, axis=0)\n",
    "# print(data)\n",
    "\n",
    "result = model.predict(x=data)\n",
    "print(result)"
   ]
  }
 ],
 "metadata": {
  "interpreter": {
   "hash": "dba788e4a50ad11c3aca04f6a487ccbbf2decea49c956f88ab099965f16291a4"
  },
  "kernelspec": {
   "display_name": "Python 3.8.3 ('base')",
   "language": "python",
   "name": "python3"
  },
  "language_info": {
   "codemirror_mode": {
    "name": "ipython",
    "version": 3
   },
   "file_extension": ".py",
   "mimetype": "text/x-python",
   "name": "python",
   "nbconvert_exporter": "python",
   "pygments_lexer": "ipython3",
   "version": "3.8.3"
  },
  "orig_nbformat": 4
 },
 "nbformat": 4,
 "nbformat_minor": 2
}
